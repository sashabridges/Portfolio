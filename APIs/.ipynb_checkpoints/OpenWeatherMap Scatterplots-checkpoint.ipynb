{
 "cells": [
  {
   "cell_type": "markdown",
   "metadata": {},
   "source": [
    "In this notebook you'll gather latitudes and longitudes, and with citipy and the OpenWeatherMap API you will create scatterplots from data frames."
   ]
  },
  {
   "cell_type": "markdown",
   "metadata": {},
   "source": [
    "## Basic Setup"
   ]
  },
  {
   "cell_type": "code",
   "execution_count": null,
   "metadata": {},
   "outputs": [],
   "source": [
    "# Dependencies and Setup\n",
    "import matplotlib.pyplot as plt\n",
    "import pandas as pd\n",
    "import numpy as np\n",
    "import requests\n",
    "import time\n",
    "\n",
    "# Import API key\n",
    "from api_keys import api_key\n",
    "\n",
    "# Incorporated citipy to determine city based on latitude and longitude\n",
    "from citipy import citipy\n",
    "\n",
    "# Range of latitudes and longitudes\n",
    "lat_range = (-90, 90)\n",
    "lng_range = (-180, 180)"
   ]
  },
  {
   "cell_type": "markdown",
   "metadata": {},
   "source": [
    "## Create Random Lat/Lngs and use citipy to get City Names"
   ]
  },
  {
   "cell_type": "code",
   "execution_count": null,
   "metadata": {},
   "outputs": [],
   "source": [
    "# List for holding lat_lngs and cities\n",
    "lat_lngs = []\n",
    "cities = []\n",
    "\n",
    "# Create a set of random lat and lng combinations\n",
    "lats = np.random.uniform(low=-90.000, high=90.000, size=1500)\n",
    "lngs = np.random.uniform(low=-180.000, high=180.000, size=1500)\n",
    "lat_lngs = zip(lats, lngs)\n",
    "\n",
    "# Identify nearest city for each lat, lng combination\n",
    "for lat_lng in lat_lngs:\n",
    "    city = citipy.nearest_city(lat_lng[0], lat_lng[1]).city_name\n",
    "    \n",
    "    # If the city is unique, then add it to a our cities list\n",
    "    if city not in cities:\n",
    "        cities.append(city)\n",
    "\n",
    "# Print the city count to confirm sufficient count\n",
    "len(cities)"
   ]
  },
  {
   "cell_type": "markdown",
   "metadata": {},
   "source": [
    "## Set Up Variables and Lists"
   ]
  },
  {
   "cell_type": "code",
   "execution_count": null,
   "metadata": {},
   "outputs": [],
   "source": [
    "# initialize the variables for the print strings\n",
    "record = 1\n",
    "set_num = 1\n",
    "\n",
    "# create lists for city, cloudiness, country, date, humidity, lat, lng, max temp, wind speed\n",
    "city = []\n",
    "cloudiness = []\n",
    "country = []\n",
    "date = []\n",
    "humidity = []\n",
    "lng = []\n",
    "windspeed = []\n",
    "lat = []\n",
    "temp = []\n",
    "\n",
    "# set the units for the API\n",
    "units = \"imperial\"\n",
    "\n",
    "# make the base url\n",
    "base_url = \"http://api.openweathermap.org/data/2.5/weather?\""
   ]
  },
  {
   "cell_type": "markdown",
   "metadata": {},
   "source": [
    "## Begin Data Retrieval"
   ]
  },
  {
   "cell_type": "code",
   "execution_count": null,
   "metadata": {},
   "outputs": [],
   "source": [
    "print(\"Beginning Data Retrieval\")\n",
    "print(\"-----------------------------\")\n",
    "\n",
    "# begin the for loop for data retrieval\n",
    "for place in cities:\n",
    "    try:\n",
    "        query_url = f\"{base_url}appid={api_key}&q={place}&units={units}\"\n",
    "        response = requests.get(query_url).json()\n",
    "        print(f\"Processing Record {record} of Set {set_num} | {response['name']}\")\n",
    "\n",
    "        city.append(response['name'])\n",
    "        cloudiness.append(response['clouds']['all'])\n",
    "        country.append(response['sys']['country'])\n",
    "        date.append(response['dt'])\n",
    "        humidity.append(response['main']['humidity'])\n",
    "        lng.append(response['coord']['lon'])\n",
    "        windspeed.append(response['wind']['speed'])\n",
    "        lat.append(response['coord']['lat'])\n",
    "        temp.append(response['main']['temp_max'])\n",
    "            \n",
    "        record += 1\n",
    "        \n",
    "        if record > 50:\n",
    "            record = 1\n",
    "            set_num += 1\n",
    "        # The API has a limited amount of calls that you can make per minute\n",
    "        # So put the loop to sleep\n",
    "        time.sleep(1.1)\n",
    "    except KeyError:\n",
    "        print(\"City not found. Skipping...\")        \n",
    "\n",
    "    \n",
    "print(\"-----------------------------\")\n",
    "print(\"Data Retrieval Complete\")\n",
    "print(\"-----------------------------\")\n",
    "# end for"
   ]
  },
  {
   "cell_type": "markdown",
   "metadata": {},
   "source": [
    "## Create the Data Frame based on API Data"
   ]
  },
  {
   "cell_type": "code",
   "execution_count": null,
   "metadata": {},
   "outputs": [],
   "source": [
    "# put city, cloudiness, country, date, humidity, lat, lng, max temp, wind speed into the data frame\n",
    "city_data = {\"City\": city, \"Cloudiness\": cloudiness , \"Country\": country , \n",
    "             \"Date\": date, \"Humidity\": humidity, \"Lat\": lat, \"Lng\": lng, \"Max Temp\": temp, \"Wind Speed\": windspeed}\n",
    "city_data_df = pd.DataFrame(city_data)\n",
    "\n",
    "# Count the number of successful rows\n",
    "city_data_df.count()\n",
    "\n",
    "# Export to CSV\n",
    "city_data_df.to_csv(\"cities_data.csv\", header=True)"
   ]
  },
  {
   "cell_type": "markdown",
   "metadata": {},
   "source": [
    "## Preview the Data Frame"
   ]
  },
  {
   "cell_type": "code",
   "execution_count": null,
   "metadata": {},
   "outputs": [],
   "source": [
    "city_data_df.head()"
   ]
  },
  {
   "cell_type": "markdown",
   "metadata": {},
   "source": [
    "## Latitude versus Max Temperature"
   ]
  },
  {
   "cell_type": "code",
   "execution_count": null,
   "metadata": {},
   "outputs": [],
   "source": [
    "y = city_data_df[\"Max Temp\"]\n",
    "x = city_data_df[\"Lat\"]\n",
    "\n",
    "plt.scatter(x, y, marker=\"o\")\n",
    "plt.grid()\n",
    "plt.title(f\"City Latitude vs. Max Temperature\")\n",
    "plt.xlabel(\"Latitude\")\n",
    "plt.ylabel(\"Max Temperature (F)\")\n",
    "plt.savefig(\"lat_vs_temp.png\")\n",
    "plt.show()"
   ]
  },
  {
   "cell_type": "markdown",
   "metadata": {},
   "source": [
    "## Latitude versus Humidity"
   ]
  },
  {
   "cell_type": "code",
   "execution_count": null,
   "metadata": {},
   "outputs": [],
   "source": [
    "y = city_data_df[\"Humidity\"]\n",
    "x = city_data_df[\"Lat\"]\n",
    "\n",
    "plt.scatter(x, y, marker=\"o\")\n",
    "plt.grid()\n",
    "plt.title(f\"Latitude vs. Humidity\")\n",
    "plt.xlabel(\"Latitude\")\n",
    "plt.ylabel(\"Humidity (%)\")\n",
    "plt.savefig(\"lat_vs_humidity.png\")\n",
    "plt.show()"
   ]
  },
  {
   "cell_type": "markdown",
   "metadata": {},
   "source": [
    "## Latitude versus Cloudiness"
   ]
  },
  {
   "cell_type": "code",
   "execution_count": null,
   "metadata": {},
   "outputs": [],
   "source": [
    "y = city_data_df[\"Cloudiness\"]\n",
    "x = city_data_df[\"Lat\"]\n",
    "\n",
    "plt.scatter(x, y, marker=\"o\")\n",
    "plt.grid()\n",
    "plt.title(f\"City Latitude vs. Cloudiness\")\n",
    "plt.xlabel(\"Latitude\")\n",
    "plt.ylabel(\"Cloudiness (%)\")\n",
    "plt.savefig(\"lat_vs_cloudiness.png\")\n",
    "plt.show()"
   ]
  },
  {
   "cell_type": "markdown",
   "metadata": {},
   "source": [
    "## Latitude versus Wind Speed"
   ]
  },
  {
   "cell_type": "code",
   "execution_count": null,
   "metadata": {},
   "outputs": [],
   "source": [
    "y = city_data_df[\"Wind Speed\"]\n",
    "x = city_data_df[\"Lat\"]\n",
    "\n",
    "plt.scatter(x, y, marker='o')\n",
    "plt.grid()\n",
    "plt.title(f\"City Latitude vs. Wind Speed\")\n",
    "plt.xlabel(\"Latitude\")\n",
    "plt.ylabel(\"Wind Speed (mph)\")\n",
    "plt.savefig(\"lat_vs_wind_speed.png\")\n",
    "plt.show()"
   ]
  },
  {
   "cell_type": "markdown",
   "metadata": {},
   "source": [
    "Sasha Bridges\n",
    "March 2019"
   ]
  },
  {
   "cell_type": "code",
   "execution_count": null,
   "metadata": {},
   "outputs": [],
   "source": []
  }
 ],
 "metadata": {
  "kernelspec": {
   "display_name": "Python 3",
   "language": "python",
   "name": "python3"
  },
  "language_info": {
   "codemirror_mode": {
    "name": "ipython",
    "version": 3
   },
   "file_extension": ".py",
   "mimetype": "text/x-python",
   "name": "python",
   "nbconvert_exporter": "python",
   "pygments_lexer": "ipython3",
   "version": "3.7.1"
  }
 },
 "nbformat": 4,
 "nbformat_minor": 2
}
